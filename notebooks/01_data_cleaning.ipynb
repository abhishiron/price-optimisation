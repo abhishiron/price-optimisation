{
 "cells": [
  {
   "cell_type": "code",
   "execution_count": 56,
   "id": "e5a5d568",
   "metadata": {},
   "outputs": [],
   "source": [
    "import pandas as pd\n",
    "import numpy as np\n",
    "import matplotlib.pyplot as plt\n",
    "import seaborn as sns"
   ]
  },
  {
   "cell_type": "code",
   "execution_count": 57,
   "id": "a2ed0af8",
   "metadata": {},
   "outputs": [],
   "source": [
    "df = pd.read_csv('../Dataset/online_retail_II.csv')"
   ]
  },
  {
   "cell_type": "code",
   "execution_count": 58,
   "id": "4acccb28",
   "metadata": {},
   "outputs": [
    {
     "data": {
      "text/html": [
       "<div>\n",
       "<style scoped>\n",
       "    .dataframe tbody tr th:only-of-type {\n",
       "        vertical-align: middle;\n",
       "    }\n",
       "\n",
       "    .dataframe tbody tr th {\n",
       "        vertical-align: top;\n",
       "    }\n",
       "\n",
       "    .dataframe thead th {\n",
       "        text-align: right;\n",
       "    }\n",
       "</style>\n",
       "<table border=\"1\" class=\"dataframe\">\n",
       "  <thead>\n",
       "    <tr style=\"text-align: right;\">\n",
       "      <th></th>\n",
       "      <th>Invoice</th>\n",
       "      <th>StockCode</th>\n",
       "      <th>Description</th>\n",
       "      <th>Quantity</th>\n",
       "      <th>InvoiceDate</th>\n",
       "      <th>Price</th>\n",
       "      <th>Customer ID</th>\n",
       "      <th>Country</th>\n",
       "    </tr>\n",
       "  </thead>\n",
       "  <tbody>\n",
       "    <tr>\n",
       "      <th>0</th>\n",
       "      <td>489434</td>\n",
       "      <td>85048</td>\n",
       "      <td>15CM CHRISTMAS GLASS BALL 20 LIGHTS</td>\n",
       "      <td>12</td>\n",
       "      <td>2009-12-01 07:45:00</td>\n",
       "      <td>6.95</td>\n",
       "      <td>13085.0</td>\n",
       "      <td>United Kingdom</td>\n",
       "    </tr>\n",
       "    <tr>\n",
       "      <th>1</th>\n",
       "      <td>489434</td>\n",
       "      <td>79323P</td>\n",
       "      <td>PINK CHERRY LIGHTS</td>\n",
       "      <td>12</td>\n",
       "      <td>2009-12-01 07:45:00</td>\n",
       "      <td>6.75</td>\n",
       "      <td>13085.0</td>\n",
       "      <td>United Kingdom</td>\n",
       "    </tr>\n",
       "    <tr>\n",
       "      <th>2</th>\n",
       "      <td>489434</td>\n",
       "      <td>79323W</td>\n",
       "      <td>WHITE CHERRY LIGHTS</td>\n",
       "      <td>12</td>\n",
       "      <td>2009-12-01 07:45:00</td>\n",
       "      <td>6.75</td>\n",
       "      <td>13085.0</td>\n",
       "      <td>United Kingdom</td>\n",
       "    </tr>\n",
       "    <tr>\n",
       "      <th>3</th>\n",
       "      <td>489434</td>\n",
       "      <td>22041</td>\n",
       "      <td>RECORD FRAME 7\" SINGLE SIZE</td>\n",
       "      <td>48</td>\n",
       "      <td>2009-12-01 07:45:00</td>\n",
       "      <td>2.10</td>\n",
       "      <td>13085.0</td>\n",
       "      <td>United Kingdom</td>\n",
       "    </tr>\n",
       "    <tr>\n",
       "      <th>4</th>\n",
       "      <td>489434</td>\n",
       "      <td>21232</td>\n",
       "      <td>STRAWBERRY CERAMIC TRINKET BOX</td>\n",
       "      <td>24</td>\n",
       "      <td>2009-12-01 07:45:00</td>\n",
       "      <td>1.25</td>\n",
       "      <td>13085.0</td>\n",
       "      <td>United Kingdom</td>\n",
       "    </tr>\n",
       "  </tbody>\n",
       "</table>\n",
       "</div>"
      ],
      "text/plain": [
       "  Invoice StockCode                          Description  Quantity  \\\n",
       "0  489434     85048  15CM CHRISTMAS GLASS BALL 20 LIGHTS        12   \n",
       "1  489434    79323P                   PINK CHERRY LIGHTS        12   \n",
       "2  489434    79323W                  WHITE CHERRY LIGHTS        12   \n",
       "3  489434     22041         RECORD FRAME 7\" SINGLE SIZE         48   \n",
       "4  489434     21232       STRAWBERRY CERAMIC TRINKET BOX        24   \n",
       "\n",
       "           InvoiceDate  Price  Customer ID         Country  \n",
       "0  2009-12-01 07:45:00   6.95      13085.0  United Kingdom  \n",
       "1  2009-12-01 07:45:00   6.75      13085.0  United Kingdom  \n",
       "2  2009-12-01 07:45:00   6.75      13085.0  United Kingdom  \n",
       "3  2009-12-01 07:45:00   2.10      13085.0  United Kingdom  \n",
       "4  2009-12-01 07:45:00   1.25      13085.0  United Kingdom  "
      ]
     },
     "execution_count": 58,
     "metadata": {},
     "output_type": "execute_result"
    }
   ],
   "source": [
    "df.head()"
   ]
  },
  {
   "cell_type": "code",
   "execution_count": 59,
   "id": "232660ba",
   "metadata": {},
   "outputs": [
    {
     "name": "stdout",
     "output_type": "stream",
     "text": [
      "<class 'pandas.core.frame.DataFrame'>\n",
      "RangeIndex: 1067371 entries, 0 to 1067370\n",
      "Data columns (total 8 columns):\n",
      " #   Column       Non-Null Count    Dtype  \n",
      "---  ------       --------------    -----  \n",
      " 0   Invoice      1067371 non-null  object \n",
      " 1   StockCode    1067371 non-null  object \n",
      " 2   Description  1062989 non-null  object \n",
      " 3   Quantity     1067371 non-null  int64  \n",
      " 4   InvoiceDate  1067371 non-null  object \n",
      " 5   Price        1067371 non-null  float64\n",
      " 6   Customer ID  824364 non-null   float64\n",
      " 7   Country      1067371 non-null  object \n",
      "dtypes: float64(2), int64(1), object(5)\n",
      "memory usage: 65.1+ MB\n"
     ]
    }
   ],
   "source": [
    "df.info()"
   ]
  },
  {
   "cell_type": "code",
   "execution_count": 60,
   "id": "e378e27e",
   "metadata": {},
   "outputs": [
    {
     "data": {
      "text/plain": [
       "Invoice             0\n",
       "StockCode           0\n",
       "Description      4382\n",
       "Quantity            0\n",
       "InvoiceDate         0\n",
       "Price               0\n",
       "Customer ID    243007\n",
       "Country             0\n",
       "dtype: int64"
      ]
     },
     "execution_count": 60,
     "metadata": {},
     "output_type": "execute_result"
    }
   ],
   "source": [
    "df.isnull().sum()"
   ]
  },
  {
   "cell_type": "code",
   "execution_count": 61,
   "id": "5242f948",
   "metadata": {},
   "outputs": [
    {
     "data": {
      "text/plain": [
       "(1067371, 8)"
      ]
     },
     "execution_count": 61,
     "metadata": {},
     "output_type": "execute_result"
    }
   ],
   "source": [
    "df.shape"
   ]
  },
  {
   "cell_type": "code",
   "execution_count": 62,
   "id": "99c2c557",
   "metadata": {},
   "outputs": [],
   "source": [
    "df.dropna(subset=['Description'], inplace=True)  ## Dropping rows with null Description"
   ]
  },
  {
   "cell_type": "code",
   "execution_count": 63,
   "id": "5add1c27",
   "metadata": {},
   "outputs": [],
   "source": [
    "# Step 1: Fill nulls with label \"GUEST\"\n",
    "df['Customer ID'] = df['Customer ID'].fillna('GUEST')\n",
    "\n",
    "# Step 2: Convert to string (so that numeric IDs don't look like floats)\n",
    "df['Customer ID'] = df['Customer ID'].astype(str)\n",
    "\n",
    "# Step 3: Convert to categorical (saves memory & makes sense semantically)\n",
    "df['Customer ID'] = df['Customer ID'].astype('category')"
   ]
  },
  {
   "cell_type": "code",
   "execution_count": 64,
   "id": "6e287c55",
   "metadata": {},
   "outputs": [],
   "source": [
    "# Converting Invoice to categorical\n",
    "df['Invoice'] = df['Invoice'].astype('category') "
   ]
  },
  {
   "cell_type": "code",
   "execution_count": 65,
   "id": "3728ca02",
   "metadata": {},
   "outputs": [],
   "source": [
    "# Converting InvoiceDate to datetime\n",
    "df['InvoiceDate'] = pd.to_datetime(df['InvoiceDate'])"
   ]
  },
  {
   "cell_type": "code",
   "execution_count": 66,
   "id": "0ddf1465",
   "metadata": {},
   "outputs": [
    {
     "data": {
      "text/html": [
       "<div>\n",
       "<style scoped>\n",
       "    .dataframe tbody tr th:only-of-type {\n",
       "        vertical-align: middle;\n",
       "    }\n",
       "\n",
       "    .dataframe tbody tr th {\n",
       "        vertical-align: top;\n",
       "    }\n",
       "\n",
       "    .dataframe thead th {\n",
       "        text-align: right;\n",
       "    }\n",
       "</style>\n",
       "<table border=\"1\" class=\"dataframe\">\n",
       "  <thead>\n",
       "    <tr style=\"text-align: right;\">\n",
       "      <th></th>\n",
       "      <th>Invoice</th>\n",
       "      <th>StockCode</th>\n",
       "      <th>Description</th>\n",
       "      <th>Quantity</th>\n",
       "      <th>InvoiceDate</th>\n",
       "      <th>Price</th>\n",
       "      <th>Customer ID</th>\n",
       "      <th>Country</th>\n",
       "    </tr>\n",
       "  </thead>\n",
       "  <tbody>\n",
       "    <tr>\n",
       "      <th>0</th>\n",
       "      <td>489434</td>\n",
       "      <td>85048</td>\n",
       "      <td>15CM CHRISTMAS GLASS BALL 20 LIGHTS</td>\n",
       "      <td>12</td>\n",
       "      <td>2009-12-01 07:45:00</td>\n",
       "      <td>6.95</td>\n",
       "      <td>13085.0</td>\n",
       "      <td>United Kingdom</td>\n",
       "    </tr>\n",
       "    <tr>\n",
       "      <th>1</th>\n",
       "      <td>489434</td>\n",
       "      <td>79323P</td>\n",
       "      <td>PINK CHERRY LIGHTS</td>\n",
       "      <td>12</td>\n",
       "      <td>2009-12-01 07:45:00</td>\n",
       "      <td>6.75</td>\n",
       "      <td>13085.0</td>\n",
       "      <td>United Kingdom</td>\n",
       "    </tr>\n",
       "    <tr>\n",
       "      <th>2</th>\n",
       "      <td>489434</td>\n",
       "      <td>79323W</td>\n",
       "      <td>WHITE CHERRY LIGHTS</td>\n",
       "      <td>12</td>\n",
       "      <td>2009-12-01 07:45:00</td>\n",
       "      <td>6.75</td>\n",
       "      <td>13085.0</td>\n",
       "      <td>United Kingdom</td>\n",
       "    </tr>\n",
       "    <tr>\n",
       "      <th>3</th>\n",
       "      <td>489434</td>\n",
       "      <td>22041</td>\n",
       "      <td>RECORD FRAME 7\" SINGLE SIZE</td>\n",
       "      <td>48</td>\n",
       "      <td>2009-12-01 07:45:00</td>\n",
       "      <td>2.10</td>\n",
       "      <td>13085.0</td>\n",
       "      <td>United Kingdom</td>\n",
       "    </tr>\n",
       "    <tr>\n",
       "      <th>4</th>\n",
       "      <td>489434</td>\n",
       "      <td>21232</td>\n",
       "      <td>STRAWBERRY CERAMIC TRINKET BOX</td>\n",
       "      <td>24</td>\n",
       "      <td>2009-12-01 07:45:00</td>\n",
       "      <td>1.25</td>\n",
       "      <td>13085.0</td>\n",
       "      <td>United Kingdom</td>\n",
       "    </tr>\n",
       "  </tbody>\n",
       "</table>\n",
       "</div>"
      ],
      "text/plain": [
       "  Invoice StockCode                          Description  Quantity  \\\n",
       "0  489434     85048  15CM CHRISTMAS GLASS BALL 20 LIGHTS        12   \n",
       "1  489434    79323P                   PINK CHERRY LIGHTS        12   \n",
       "2  489434    79323W                  WHITE CHERRY LIGHTS        12   \n",
       "3  489434     22041         RECORD FRAME 7\" SINGLE SIZE         48   \n",
       "4  489434     21232       STRAWBERRY CERAMIC TRINKET BOX        24   \n",
       "\n",
       "          InvoiceDate  Price Customer ID         Country  \n",
       "0 2009-12-01 07:45:00   6.95     13085.0  United Kingdom  \n",
       "1 2009-12-01 07:45:00   6.75     13085.0  United Kingdom  \n",
       "2 2009-12-01 07:45:00   6.75     13085.0  United Kingdom  \n",
       "3 2009-12-01 07:45:00   2.10     13085.0  United Kingdom  \n",
       "4 2009-12-01 07:45:00   1.25     13085.0  United Kingdom  "
      ]
     },
     "execution_count": 66,
     "metadata": {},
     "output_type": "execute_result"
    }
   ],
   "source": [
    "df.head()"
   ]
  },
  {
   "cell_type": "code",
   "execution_count": 67,
   "id": "1726f9d6",
   "metadata": {},
   "outputs": [
    {
     "name": "stdout",
     "output_type": "stream",
     "text": [
      "Number of rows with invalid Quantity: 20261\n"
     ]
    }
   ],
   "source": [
    "count_invalid_quantity = len(df[df['Quantity'] <= 0])\n",
    "print(f'Number of rows with invalid Quantity: {count_invalid_quantity}')"
   ]
  },
  {
   "cell_type": "code",
   "execution_count": 68,
   "id": "3993320e",
   "metadata": {},
   "outputs": [],
   "source": [
    "df = df[df['Quantity']\n",
    "    > 0]  # Keep only rows with positive Quantity"
   ]
  },
  {
   "cell_type": "code",
   "execution_count": 69,
   "id": "382123f5",
   "metadata": {},
   "outputs": [
    {
     "name": "stdout",
     "output_type": "stream",
     "text": [
      "Number of rows with invalid Price: 1057\n"
     ]
    }
   ],
   "source": [
    "count_invalid_price = len(df[df['Price'] <= 0])\n",
    "print(f'Number of rows with invalid Price: {count_invalid_price}')"
   ]
  },
  {
   "cell_type": "code",
   "execution_count": 70,
   "id": "106f5c6e",
   "metadata": {},
   "outputs": [],
   "source": [
    "df = df[df['Price'] > 0]  # Keep only rows with positive Price"
   ]
  },
  {
   "cell_type": "code",
   "execution_count": 71,
   "id": "a2dd2f56",
   "metadata": {},
   "outputs": [
    {
     "data": {
      "text/html": [
       "<div>\n",
       "<style scoped>\n",
       "    .dataframe tbody tr th:only-of-type {\n",
       "        vertical-align: middle;\n",
       "    }\n",
       "\n",
       "    .dataframe tbody tr th {\n",
       "        vertical-align: top;\n",
       "    }\n",
       "\n",
       "    .dataframe thead th {\n",
       "        text-align: right;\n",
       "    }\n",
       "</style>\n",
       "<table border=\"1\" class=\"dataframe\">\n",
       "  <thead>\n",
       "    <tr style=\"text-align: right;\">\n",
       "      <th></th>\n",
       "      <th>count</th>\n",
       "      <th>mean</th>\n",
       "      <th>min</th>\n",
       "      <th>25%</th>\n",
       "      <th>50%</th>\n",
       "      <th>75%</th>\n",
       "      <th>max</th>\n",
       "      <th>std</th>\n",
       "    </tr>\n",
       "  </thead>\n",
       "  <tbody>\n",
       "    <tr>\n",
       "      <th>Quantity</th>\n",
       "      <td>1041671.0</td>\n",
       "      <td>10.963448</td>\n",
       "      <td>1.0</td>\n",
       "      <td>1.0</td>\n",
       "      <td>3.0</td>\n",
       "      <td>10.0</td>\n",
       "      <td>80995.0</td>\n",
       "      <td>126.51493</td>\n",
       "    </tr>\n",
       "    <tr>\n",
       "      <th>InvoiceDate</th>\n",
       "      <td>1041671</td>\n",
       "      <td>2011-01-03 16:31:26.403269376</td>\n",
       "      <td>2009-12-01 07:45:00</td>\n",
       "      <td>2010-07-12 10:26:00</td>\n",
       "      <td>2010-12-07 15:33:00</td>\n",
       "      <td>2011-07-24 12:05:00</td>\n",
       "      <td>2011-12-09 12:50:00</td>\n",
       "      <td>NaN</td>\n",
       "    </tr>\n",
       "    <tr>\n",
       "      <th>Price</th>\n",
       "      <td>1041671.0</td>\n",
       "      <td>4.077038</td>\n",
       "      <td>0.001</td>\n",
       "      <td>1.25</td>\n",
       "      <td>2.1</td>\n",
       "      <td>4.13</td>\n",
       "      <td>25111.09</td>\n",
       "      <td>51.448979</td>\n",
       "    </tr>\n",
       "  </tbody>\n",
       "</table>\n",
       "</div>"
      ],
      "text/plain": [
       "                 count                           mean                  min  \\\n",
       "Quantity     1041671.0                      10.963448                  1.0   \n",
       "InvoiceDate    1041671  2011-01-03 16:31:26.403269376  2009-12-01 07:45:00   \n",
       "Price        1041671.0                       4.077038                0.001   \n",
       "\n",
       "                             25%                  50%                  75%  \\\n",
       "Quantity                     1.0                  3.0                 10.0   \n",
       "InvoiceDate  2010-07-12 10:26:00  2010-12-07 15:33:00  2011-07-24 12:05:00   \n",
       "Price                       1.25                  2.1                 4.13   \n",
       "\n",
       "                             max        std  \n",
       "Quantity                 80995.0  126.51493  \n",
       "InvoiceDate  2011-12-09 12:50:00        NaN  \n",
       "Price                   25111.09  51.448979  "
      ]
     },
     "execution_count": 71,
     "metadata": {},
     "output_type": "execute_result"
    }
   ],
   "source": [
    "df.describe().T"
   ]
  },
  {
   "cell_type": "code",
   "execution_count": 72,
   "id": "08dade77",
   "metadata": {},
   "outputs": [
    {
     "name": "stdout",
     "output_type": "stream",
     "text": [
      "The minimum price is: 0.001\n"
     ]
    }
   ],
   "source": [
    "min_price = df['Price'].min()\n",
    "print(f\"The minimum price is: {min_price}\")"
   ]
  },
  {
   "cell_type": "code",
   "execution_count": 73,
   "id": "2f2ce2e8",
   "metadata": {},
   "outputs": [
    {
     "name": "stdout",
     "output_type": "stream",
     "text": [
      "Number of rows with Quantity > 10: 259951\n"
     ]
    }
   ],
   "source": [
    "outlier_quantity = len(df[df['Quantity'] > 10])\n",
    "print(f'Number of rows with Quantity > 10: {outlier_quantity}')"
   ]
  },
  {
   "cell_type": "code",
   "execution_count": 74,
   "id": "85dfd77d",
   "metadata": {},
   "outputs": [
    {
     "name": "stdout",
     "output_type": "stream",
     "text": [
      "Original DataFrame shape: (1041671, 8)\n",
      "Cleaned DataFrame shape: (866736, 8)\n"
     ]
    }
   ],
   "source": [
    "\n",
    "\n",
    "# Create a copy of your DataFrame to store the cleaned data\n",
    "df_cleaned = df.copy()\n",
    "\n",
    "# --- Remove Outliers from 'Quantity' ---\n",
    "Q1_quantity = df_cleaned['Quantity'].quantile(0.25)\n",
    "Q3_quantity = df_cleaned['Quantity'].quantile(0.75)\n",
    "IQR_quantity = Q3_quantity - Q1_quantity\n",
    "upper_bound_quantity = Q3_quantity + 1.5 * IQR_quantity\n",
    "\n",
    "df_cleaned = df_cleaned[df_cleaned['Quantity'] <= upper_bound_quantity]\n",
    "\n",
    "\n",
    "# --- Remove Outliers from 'Price' ---\n",
    "Q1_price = df_cleaned['Price'].quantile(0.25)\n",
    "Q3_price = df_cleaned['Price'].quantile(0.75)\n",
    "IQR_price = Q3_price - Q1_price\n",
    "upper_bound_price = Q3_price + 1.5 * IQR_price\n",
    "\n",
    "df_cleaned = df_cleaned[df_cleaned['Price'] <= upper_bound_price]\n",
    "\n",
    "\n",
    "# Display the shape of the DataFrame to see the effect of the cleaning\n",
    "print(f\"Original DataFrame shape: {df.shape}\")\n",
    "print(f\"Cleaned DataFrame shape: {df_cleaned.shape}\")"
   ]
  },
  {
   "cell_type": "code",
   "execution_count": 75,
   "id": "483b78cc",
   "metadata": {},
   "outputs": [
    {
     "data": {
      "text/html": [
       "<div>\n",
       "<style scoped>\n",
       "    .dataframe tbody tr th:only-of-type {\n",
       "        vertical-align: middle;\n",
       "    }\n",
       "\n",
       "    .dataframe tbody tr th {\n",
       "        vertical-align: top;\n",
       "    }\n",
       "\n",
       "    .dataframe thead th {\n",
       "        text-align: right;\n",
       "    }\n",
       "</style>\n",
       "<table border=\"1\" class=\"dataframe\">\n",
       "  <thead>\n",
       "    <tr style=\"text-align: right;\">\n",
       "      <th></th>\n",
       "      <th>count</th>\n",
       "      <th>mean</th>\n",
       "      <th>min</th>\n",
       "      <th>25%</th>\n",
       "      <th>50%</th>\n",
       "      <th>75%</th>\n",
       "      <th>max</th>\n",
       "      <th>std</th>\n",
       "    </tr>\n",
       "  </thead>\n",
       "  <tbody>\n",
       "    <tr>\n",
       "      <th>Quantity</th>\n",
       "      <td>866736.0</td>\n",
       "      <td>4.876884</td>\n",
       "      <td>1.0</td>\n",
       "      <td>1.0</td>\n",
       "      <td>3.0</td>\n",
       "      <td>8.0</td>\n",
       "      <td>23.0</td>\n",
       "      <td>4.460413</td>\n",
       "    </tr>\n",
       "    <tr>\n",
       "      <th>InvoiceDate</th>\n",
       "      <td>866736</td>\n",
       "      <td>2011-01-04 20:44:41.913108480</td>\n",
       "      <td>2009-12-01 07:45:00</td>\n",
       "      <td>2010-07-13 12:33:00</td>\n",
       "      <td>2010-12-07 18:36:00</td>\n",
       "      <td>2011-07-25 16:57:00</td>\n",
       "      <td>2011-12-09 12:50:00</td>\n",
       "      <td>NaN</td>\n",
       "    </tr>\n",
       "    <tr>\n",
       "      <th>Price</th>\n",
       "      <td>866736.0</td>\n",
       "      <td>2.82503</td>\n",
       "      <td>0.001</td>\n",
       "      <td>1.25</td>\n",
       "      <td>2.1</td>\n",
       "      <td>3.75</td>\n",
       "      <td>8.7</td>\n",
       "      <td>2.040362</td>\n",
       "    </tr>\n",
       "  </tbody>\n",
       "</table>\n",
       "</div>"
      ],
      "text/plain": [
       "                count                           mean                  min  \\\n",
       "Quantity     866736.0                       4.876884                  1.0   \n",
       "InvoiceDate    866736  2011-01-04 20:44:41.913108480  2009-12-01 07:45:00   \n",
       "Price        866736.0                        2.82503                0.001   \n",
       "\n",
       "                             25%                  50%                  75%  \\\n",
       "Quantity                     1.0                  3.0                  8.0   \n",
       "InvoiceDate  2010-07-13 12:33:00  2010-12-07 18:36:00  2011-07-25 16:57:00   \n",
       "Price                       1.25                  2.1                 3.75   \n",
       "\n",
       "                             max       std  \n",
       "Quantity                    23.0  4.460413  \n",
       "InvoiceDate  2011-12-09 12:50:00       NaN  \n",
       "Price                        8.7  2.040362  "
      ]
     },
     "execution_count": 75,
     "metadata": {},
     "output_type": "execute_result"
    }
   ],
   "source": [
    "df_cleaned.describe().T"
   ]
  },
  {
   "cell_type": "markdown",
   "id": "1d9163fe",
   "metadata": {},
   "source": [
    "## Feature Engineering\n"
   ]
  },
  {
   "cell_type": "code",
   "execution_count": 76,
   "id": "a4b975bd",
   "metadata": {},
   "outputs": [
    {
     "data": {
      "text/html": [
       "<div>\n",
       "<style scoped>\n",
       "    .dataframe tbody tr th:only-of-type {\n",
       "        vertical-align: middle;\n",
       "    }\n",
       "\n",
       "    .dataframe tbody tr th {\n",
       "        vertical-align: top;\n",
       "    }\n",
       "\n",
       "    .dataframe thead th {\n",
       "        text-align: right;\n",
       "    }\n",
       "</style>\n",
       "<table border=\"1\" class=\"dataframe\">\n",
       "  <thead>\n",
       "    <tr style=\"text-align: right;\">\n",
       "      <th></th>\n",
       "      <th>Invoice</th>\n",
       "      <th>StockCode</th>\n",
       "      <th>Description</th>\n",
       "      <th>Quantity</th>\n",
       "      <th>InvoiceDate</th>\n",
       "      <th>Price</th>\n",
       "      <th>Customer ID</th>\n",
       "      <th>Country</th>\n",
       "      <th>Sales</th>\n",
       "    </tr>\n",
       "  </thead>\n",
       "  <tbody>\n",
       "    <tr>\n",
       "      <th>0</th>\n",
       "      <td>489434</td>\n",
       "      <td>85048</td>\n",
       "      <td>15CM CHRISTMAS GLASS BALL 20 LIGHTS</td>\n",
       "      <td>12</td>\n",
       "      <td>2009-12-01 07:45:00</td>\n",
       "      <td>6.95</td>\n",
       "      <td>13085.0</td>\n",
       "      <td>United Kingdom</td>\n",
       "      <td>83.4</td>\n",
       "    </tr>\n",
       "    <tr>\n",
       "      <th>1</th>\n",
       "      <td>489434</td>\n",
       "      <td>79323P</td>\n",
       "      <td>PINK CHERRY LIGHTS</td>\n",
       "      <td>12</td>\n",
       "      <td>2009-12-01 07:45:00</td>\n",
       "      <td>6.75</td>\n",
       "      <td>13085.0</td>\n",
       "      <td>United Kingdom</td>\n",
       "      <td>81.0</td>\n",
       "    </tr>\n",
       "    <tr>\n",
       "      <th>2</th>\n",
       "      <td>489434</td>\n",
       "      <td>79323W</td>\n",
       "      <td>WHITE CHERRY LIGHTS</td>\n",
       "      <td>12</td>\n",
       "      <td>2009-12-01 07:45:00</td>\n",
       "      <td>6.75</td>\n",
       "      <td>13085.0</td>\n",
       "      <td>United Kingdom</td>\n",
       "      <td>81.0</td>\n",
       "    </tr>\n",
       "    <tr>\n",
       "      <th>7</th>\n",
       "      <td>489434</td>\n",
       "      <td>21523</td>\n",
       "      <td>FANCY FONT HOME SWEET HOME DOORMAT</td>\n",
       "      <td>10</td>\n",
       "      <td>2009-12-01 07:45:00</td>\n",
       "      <td>5.95</td>\n",
       "      <td>13085.0</td>\n",
       "      <td>United Kingdom</td>\n",
       "      <td>59.5</td>\n",
       "    </tr>\n",
       "    <tr>\n",
       "      <th>8</th>\n",
       "      <td>489435</td>\n",
       "      <td>22350</td>\n",
       "      <td>CAT BOWL</td>\n",
       "      <td>12</td>\n",
       "      <td>2009-12-01 07:46:00</td>\n",
       "      <td>2.55</td>\n",
       "      <td>13085.0</td>\n",
       "      <td>United Kingdom</td>\n",
       "      <td>30.6</td>\n",
       "    </tr>\n",
       "  </tbody>\n",
       "</table>\n",
       "</div>"
      ],
      "text/plain": [
       "  Invoice StockCode                          Description  Quantity  \\\n",
       "0  489434     85048  15CM CHRISTMAS GLASS BALL 20 LIGHTS        12   \n",
       "1  489434    79323P                   PINK CHERRY LIGHTS        12   \n",
       "2  489434    79323W                  WHITE CHERRY LIGHTS        12   \n",
       "7  489434     21523   FANCY FONT HOME SWEET HOME DOORMAT        10   \n",
       "8  489435     22350                            CAT BOWL         12   \n",
       "\n",
       "          InvoiceDate  Price Customer ID         Country  Sales  \n",
       "0 2009-12-01 07:45:00   6.95     13085.0  United Kingdom   83.4  \n",
       "1 2009-12-01 07:45:00   6.75     13085.0  United Kingdom   81.0  \n",
       "2 2009-12-01 07:45:00   6.75     13085.0  United Kingdom   81.0  \n",
       "7 2009-12-01 07:45:00   5.95     13085.0  United Kingdom   59.5  \n",
       "8 2009-12-01 07:46:00   2.55     13085.0  United Kingdom   30.6  "
      ]
     },
     "execution_count": 76,
     "metadata": {},
     "output_type": "execute_result"
    }
   ],
   "source": [
    "## Creating a new column 'Sales' = 'Quantity' * 'Price'\n",
    "df_cleaned['Sales'] = df_cleaned['Quantity'] * df_cleaned['Price']\n",
    "df_cleaned.head()"
   ]
  },
  {
   "cell_type": "code",
   "execution_count": 77,
   "id": "b195ecb0",
   "metadata": {},
   "outputs": [
    {
     "data": {
      "text/html": [
       "<div>\n",
       "<style scoped>\n",
       "    .dataframe tbody tr th:only-of-type {\n",
       "        vertical-align: middle;\n",
       "    }\n",
       "\n",
       "    .dataframe tbody tr th {\n",
       "        vertical-align: top;\n",
       "    }\n",
       "\n",
       "    .dataframe thead th {\n",
       "        text-align: right;\n",
       "    }\n",
       "</style>\n",
       "<table border=\"1\" class=\"dataframe\">\n",
       "  <thead>\n",
       "    <tr style=\"text-align: right;\">\n",
       "      <th></th>\n",
       "      <th>Invoice</th>\n",
       "      <th>StockCode</th>\n",
       "      <th>Description</th>\n",
       "      <th>Quantity</th>\n",
       "      <th>InvoiceDate</th>\n",
       "      <th>Price</th>\n",
       "      <th>Customer ID</th>\n",
       "      <th>Country</th>\n",
       "      <th>Sales</th>\n",
       "      <th>Year</th>\n",
       "      <th>Month</th>\n",
       "      <th>Weekday</th>\n",
       "      <th>Hour</th>\n",
       "    </tr>\n",
       "  </thead>\n",
       "  <tbody>\n",
       "    <tr>\n",
       "      <th>0</th>\n",
       "      <td>489434</td>\n",
       "      <td>85048</td>\n",
       "      <td>15CM CHRISTMAS GLASS BALL 20 LIGHTS</td>\n",
       "      <td>12</td>\n",
       "      <td>2009-12-01 07:45:00</td>\n",
       "      <td>6.95</td>\n",
       "      <td>13085.0</td>\n",
       "      <td>United Kingdom</td>\n",
       "      <td>83.4</td>\n",
       "      <td>2009</td>\n",
       "      <td>12</td>\n",
       "      <td>Tuesday</td>\n",
       "      <td>7</td>\n",
       "    </tr>\n",
       "    <tr>\n",
       "      <th>1</th>\n",
       "      <td>489434</td>\n",
       "      <td>79323P</td>\n",
       "      <td>PINK CHERRY LIGHTS</td>\n",
       "      <td>12</td>\n",
       "      <td>2009-12-01 07:45:00</td>\n",
       "      <td>6.75</td>\n",
       "      <td>13085.0</td>\n",
       "      <td>United Kingdom</td>\n",
       "      <td>81.0</td>\n",
       "      <td>2009</td>\n",
       "      <td>12</td>\n",
       "      <td>Tuesday</td>\n",
       "      <td>7</td>\n",
       "    </tr>\n",
       "    <tr>\n",
       "      <th>2</th>\n",
       "      <td>489434</td>\n",
       "      <td>79323W</td>\n",
       "      <td>WHITE CHERRY LIGHTS</td>\n",
       "      <td>12</td>\n",
       "      <td>2009-12-01 07:45:00</td>\n",
       "      <td>6.75</td>\n",
       "      <td>13085.0</td>\n",
       "      <td>United Kingdom</td>\n",
       "      <td>81.0</td>\n",
       "      <td>2009</td>\n",
       "      <td>12</td>\n",
       "      <td>Tuesday</td>\n",
       "      <td>7</td>\n",
       "    </tr>\n",
       "    <tr>\n",
       "      <th>7</th>\n",
       "      <td>489434</td>\n",
       "      <td>21523</td>\n",
       "      <td>FANCY FONT HOME SWEET HOME DOORMAT</td>\n",
       "      <td>10</td>\n",
       "      <td>2009-12-01 07:45:00</td>\n",
       "      <td>5.95</td>\n",
       "      <td>13085.0</td>\n",
       "      <td>United Kingdom</td>\n",
       "      <td>59.5</td>\n",
       "      <td>2009</td>\n",
       "      <td>12</td>\n",
       "      <td>Tuesday</td>\n",
       "      <td>7</td>\n",
       "    </tr>\n",
       "    <tr>\n",
       "      <th>8</th>\n",
       "      <td>489435</td>\n",
       "      <td>22350</td>\n",
       "      <td>CAT BOWL</td>\n",
       "      <td>12</td>\n",
       "      <td>2009-12-01 07:46:00</td>\n",
       "      <td>2.55</td>\n",
       "      <td>13085.0</td>\n",
       "      <td>United Kingdom</td>\n",
       "      <td>30.6</td>\n",
       "      <td>2009</td>\n",
       "      <td>12</td>\n",
       "      <td>Tuesday</td>\n",
       "      <td>7</td>\n",
       "    </tr>\n",
       "  </tbody>\n",
       "</table>\n",
       "</div>"
      ],
      "text/plain": [
       "  Invoice StockCode                          Description  Quantity  \\\n",
       "0  489434     85048  15CM CHRISTMAS GLASS BALL 20 LIGHTS        12   \n",
       "1  489434    79323P                   PINK CHERRY LIGHTS        12   \n",
       "2  489434    79323W                  WHITE CHERRY LIGHTS        12   \n",
       "7  489434     21523   FANCY FONT HOME SWEET HOME DOORMAT        10   \n",
       "8  489435     22350                            CAT BOWL         12   \n",
       "\n",
       "          InvoiceDate  Price Customer ID         Country  Sales  Year  Month  \\\n",
       "0 2009-12-01 07:45:00   6.95     13085.0  United Kingdom   83.4  2009     12   \n",
       "1 2009-12-01 07:45:00   6.75     13085.0  United Kingdom   81.0  2009     12   \n",
       "2 2009-12-01 07:45:00   6.75     13085.0  United Kingdom   81.0  2009     12   \n",
       "7 2009-12-01 07:45:00   5.95     13085.0  United Kingdom   59.5  2009     12   \n",
       "8 2009-12-01 07:46:00   2.55     13085.0  United Kingdom   30.6  2009     12   \n",
       "\n",
       "   Weekday  Hour  \n",
       "0  Tuesday     7  \n",
       "1  Tuesday     7  \n",
       "2  Tuesday     7  \n",
       "7  Tuesday     7  \n",
       "8  Tuesday     7  "
      ]
     },
     "execution_count": 77,
     "metadata": {},
     "output_type": "execute_result"
    }
   ],
   "source": [
    "# Extract the Year, Month, Weekday, and Hour into new columns\n",
    "df_cleaned['Year'] = df_cleaned['InvoiceDate'].dt.year\n",
    "df_cleaned['Month'] = df_cleaned['InvoiceDate'].dt.month\n",
    "df_cleaned['Weekday'] = df_cleaned['InvoiceDate'].dt.day_name()\n",
    "df_cleaned['Hour'] = df_cleaned['InvoiceDate'].dt.hour\n",
    "df_cleaned.head()"
   ]
  },
  {
   "cell_type": "code",
   "execution_count": 78,
   "id": "60c5e422",
   "metadata": {},
   "outputs": [
    {
     "data": {
      "text/plain": [
       "Customer ID\n",
       "GUEST      205179\n",
       "17841.0     12166\n",
       "14911.0      8252\n",
       "12748.0      6596\n",
       "14606.0      6210\n",
       "            ...  \n",
       "16377.0         0\n",
       "12487.0         0\n",
       "12466.0         0\n",
       "18251.0         0\n",
       "14603.0         0\n",
       "Name: count, Length: 5943, dtype: int64"
      ]
     },
     "execution_count": 78,
     "metadata": {},
     "output_type": "execute_result"
    }
   ],
   "source": [
    "df_cleaned['Customer ID'].value_counts()"
   ]
  },
  {
   "cell_type": "code",
   "execution_count": 79,
   "id": "e69fe66f",
   "metadata": {},
   "outputs": [
    {
     "data": {
      "text/plain": [
       "Customer_Type\n",
       "identified      661557\n",
       "unidentified    205179\n",
       "Name: count, dtype: int64"
      ]
     },
     "execution_count": 79,
     "metadata": {},
     "output_type": "execute_result"
    }
   ],
   "source": [
    "df_cleaned['Customer_Type'] = np.where(df_cleaned['Customer ID'] == 'GUEST', 'unidentified', 'identified')\n",
    "df_cleaned['Customer_Type'].value_counts()"
   ]
  },
  {
   "cell_type": "code",
   "execution_count": 80,
   "id": "55ba17aa",
   "metadata": {},
   "outputs": [
    {
     "data": {
      "text/plain": [
       "Customer_Region\n",
       "Domestic         808593\n",
       "International     58143\n",
       "Name: count, dtype: int64"
      ]
     },
     "execution_count": 80,
     "metadata": {},
     "output_type": "execute_result"
    }
   ],
   "source": [
    "df_cleaned['Customer_Region'] = np.where(df_cleaned['Country'] == 'United Kingdom', 'Domestic', 'International')\n",
    "df_cleaned['Customer_Region'].value_counts()\n"
   ]
  },
  {
   "cell_type": "code",
   "execution_count": 81,
   "id": "9bdad711",
   "metadata": {},
   "outputs": [
    {
     "data": {
      "text/plain": [
       "IsCancelled\n",
       "0    866736\n",
       "Name: count, dtype: int64"
      ]
     },
     "execution_count": 81,
     "metadata": {},
     "output_type": "execute_result"
    }
   ],
   "source": [
    "df_cleaned['IsCancelled'] = np.where(df_cleaned['Invoice'].astype(str).str.startswith('C'), 1, 0)\n",
    "df_cleaned['IsCancelled'].value_counts()"
   ]
  },
  {
   "cell_type": "markdown",
   "id": "345250f7",
   "metadata": {},
   "source": [
    "## “In this dataset, cancellations are negligible (only 1 row), so cancellation-related analysis was skipped.”"
   ]
  },
  {
   "cell_type": "code",
   "execution_count": 82,
   "id": "3d75caf6",
   "metadata": {},
   "outputs": [
    {
     "name": "stdout",
     "output_type": "stream",
     "text": [
      "Total invoices starting with 'C' in the original DataFrame: 1\n",
      "\n",
      "Example of invoices starting with 'C':\n",
      "       Invoice StockCode Description  Quantity         InvoiceDate   Price  \\\n",
      "76799  C496350         M      Manual         1 2010-02-01 08:24:00  373.57   \n",
      "\n",
      "      Customer ID         Country  \n",
      "76799       GUEST  United Kingdom  \n"
     ]
    }
   ],
   "source": [
    "# Check the total count of invoices starting with 'C' in the original df\n",
    "print(f\"Total invoices starting with 'C' in the original DataFrame: {df['Invoice'].astype(str).str.startswith('C').sum()}\")\n",
    "\n",
    "# Display a few examples of these invoices\n",
    "print(\"\\nExample of invoices starting with 'C':\")\n",
    "print(df[df['Invoice'].astype(str).str.startswith('C')].head())"
   ]
  },
  {
   "cell_type": "code",
   "execution_count": 83,
   "id": "517d64fb",
   "metadata": {},
   "outputs": [
    {
     "data": {
      "text/html": [
       "<div>\n",
       "<style scoped>\n",
       "    .dataframe tbody tr th:only-of-type {\n",
       "        vertical-align: middle;\n",
       "    }\n",
       "\n",
       "    .dataframe tbody tr th {\n",
       "        vertical-align: top;\n",
       "    }\n",
       "\n",
       "    .dataframe thead th {\n",
       "        text-align: right;\n",
       "    }\n",
       "</style>\n",
       "<table border=\"1\" class=\"dataframe\">\n",
       "  <thead>\n",
       "    <tr style=\"text-align: right;\">\n",
       "      <th></th>\n",
       "      <th>Invoice</th>\n",
       "      <th>StockCode</th>\n",
       "      <th>Description</th>\n",
       "      <th>Quantity</th>\n",
       "      <th>InvoiceDate</th>\n",
       "      <th>Price</th>\n",
       "      <th>Customer ID</th>\n",
       "      <th>Country</th>\n",
       "      <th>Sales</th>\n",
       "      <th>Year</th>\n",
       "      <th>Month</th>\n",
       "      <th>Weekday</th>\n",
       "      <th>Hour</th>\n",
       "      <th>Customer_Type</th>\n",
       "      <th>Customer_Region</th>\n",
       "    </tr>\n",
       "  </thead>\n",
       "  <tbody>\n",
       "    <tr>\n",
       "      <th>0</th>\n",
       "      <td>489434</td>\n",
       "      <td>85048</td>\n",
       "      <td>15CM CHRISTMAS GLASS BALL 20 LIGHTS</td>\n",
       "      <td>12</td>\n",
       "      <td>2009-12-01 07:45:00</td>\n",
       "      <td>6.95</td>\n",
       "      <td>13085.0</td>\n",
       "      <td>United Kingdom</td>\n",
       "      <td>83.4</td>\n",
       "      <td>2009</td>\n",
       "      <td>12</td>\n",
       "      <td>Tuesday</td>\n",
       "      <td>7</td>\n",
       "      <td>identified</td>\n",
       "      <td>Domestic</td>\n",
       "    </tr>\n",
       "    <tr>\n",
       "      <th>1</th>\n",
       "      <td>489434</td>\n",
       "      <td>79323P</td>\n",
       "      <td>PINK CHERRY LIGHTS</td>\n",
       "      <td>12</td>\n",
       "      <td>2009-12-01 07:45:00</td>\n",
       "      <td>6.75</td>\n",
       "      <td>13085.0</td>\n",
       "      <td>United Kingdom</td>\n",
       "      <td>81.0</td>\n",
       "      <td>2009</td>\n",
       "      <td>12</td>\n",
       "      <td>Tuesday</td>\n",
       "      <td>7</td>\n",
       "      <td>identified</td>\n",
       "      <td>Domestic</td>\n",
       "    </tr>\n",
       "    <tr>\n",
       "      <th>2</th>\n",
       "      <td>489434</td>\n",
       "      <td>79323W</td>\n",
       "      <td>WHITE CHERRY LIGHTS</td>\n",
       "      <td>12</td>\n",
       "      <td>2009-12-01 07:45:00</td>\n",
       "      <td>6.75</td>\n",
       "      <td>13085.0</td>\n",
       "      <td>United Kingdom</td>\n",
       "      <td>81.0</td>\n",
       "      <td>2009</td>\n",
       "      <td>12</td>\n",
       "      <td>Tuesday</td>\n",
       "      <td>7</td>\n",
       "      <td>identified</td>\n",
       "      <td>Domestic</td>\n",
       "    </tr>\n",
       "    <tr>\n",
       "      <th>7</th>\n",
       "      <td>489434</td>\n",
       "      <td>21523</td>\n",
       "      <td>FANCY FONT HOME SWEET HOME DOORMAT</td>\n",
       "      <td>10</td>\n",
       "      <td>2009-12-01 07:45:00</td>\n",
       "      <td>5.95</td>\n",
       "      <td>13085.0</td>\n",
       "      <td>United Kingdom</td>\n",
       "      <td>59.5</td>\n",
       "      <td>2009</td>\n",
       "      <td>12</td>\n",
       "      <td>Tuesday</td>\n",
       "      <td>7</td>\n",
       "      <td>identified</td>\n",
       "      <td>Domestic</td>\n",
       "    </tr>\n",
       "    <tr>\n",
       "      <th>8</th>\n",
       "      <td>489435</td>\n",
       "      <td>22350</td>\n",
       "      <td>CAT BOWL</td>\n",
       "      <td>12</td>\n",
       "      <td>2009-12-01 07:46:00</td>\n",
       "      <td>2.55</td>\n",
       "      <td>13085.0</td>\n",
       "      <td>United Kingdom</td>\n",
       "      <td>30.6</td>\n",
       "      <td>2009</td>\n",
       "      <td>12</td>\n",
       "      <td>Tuesday</td>\n",
       "      <td>7</td>\n",
       "      <td>identified</td>\n",
       "      <td>Domestic</td>\n",
       "    </tr>\n",
       "  </tbody>\n",
       "</table>\n",
       "</div>"
      ],
      "text/plain": [
       "  Invoice StockCode                          Description  Quantity  \\\n",
       "0  489434     85048  15CM CHRISTMAS GLASS BALL 20 LIGHTS        12   \n",
       "1  489434    79323P                   PINK CHERRY LIGHTS        12   \n",
       "2  489434    79323W                  WHITE CHERRY LIGHTS        12   \n",
       "7  489434     21523   FANCY FONT HOME SWEET HOME DOORMAT        10   \n",
       "8  489435     22350                            CAT BOWL         12   \n",
       "\n",
       "          InvoiceDate  Price Customer ID         Country  Sales  Year  Month  \\\n",
       "0 2009-12-01 07:45:00   6.95     13085.0  United Kingdom   83.4  2009     12   \n",
       "1 2009-12-01 07:45:00   6.75     13085.0  United Kingdom   81.0  2009     12   \n",
       "2 2009-12-01 07:45:00   6.75     13085.0  United Kingdom   81.0  2009     12   \n",
       "7 2009-12-01 07:45:00   5.95     13085.0  United Kingdom   59.5  2009     12   \n",
       "8 2009-12-01 07:46:00   2.55     13085.0  United Kingdom   30.6  2009     12   \n",
       "\n",
       "   Weekday  Hour Customer_Type Customer_Region  \n",
       "0  Tuesday     7    identified        Domestic  \n",
       "1  Tuesday     7    identified        Domestic  \n",
       "2  Tuesday     7    identified        Domestic  \n",
       "7  Tuesday     7    identified        Domestic  \n",
       "8  Tuesday     7    identified        Domestic  "
      ]
     },
     "execution_count": 83,
     "metadata": {},
     "output_type": "execute_result"
    }
   ],
   "source": [
    "df_cleaned = df_cleaned.drop(columns=['IsCancelled'])\n",
    "df_cleaned.head()"
   ]
  },
  {
   "cell_type": "markdown",
   "id": "b9af586b",
   "metadata": {},
   "source": [
    "# Creating column named Basket size by grouping invoice and stockid. then removing its outliers...all this to categorize it in BULK AND SMALL order"
   ]
  },
  {
   "cell_type": "code",
   "execution_count": 88,
   "id": "5cacc6e4",
   "metadata": {},
   "outputs": [
    {
     "name": "stderr",
     "output_type": "stream",
     "text": [
      "C:\\Users\\msi\\AppData\\Local\\Temp\\ipykernel_18696\\2214028659.py:2: FutureWarning: The default of observed=False is deprecated and will be changed to True in a future version of pandas. Pass observed=False to retain current behavior or observed=True to adopt the future default and silence this warning.\n",
      "  Basket_size_per_invoice = df_cleaned.groupby('Invoice')['StockCode'].nunique()\n"
     ]
    }
   ],
   "source": [
    "# Step 1: Recalculate the number of unique items per invoice\n",
    "Basket_size_per_invoice = df_cleaned.groupby('Invoice')['StockCode'].nunique()\n",
    "\n",
    "# Step 2: Remove the outliers from this grouped data using IQR\n",
    "Q1 = Basket_size_per_invoice.quantile(0.25)\n",
    "Q3 = Basket_size_per_invoice.quantile(0.75)\n",
    "IQR = Q3 - Q1\n",
    "upper_bound = Q3 + 1.5 * IQR\n",
    "\n",
    "Basket_size_per_invoice_cleaned = Basket_size_per_invoice[Basket_size_per_invoice <= upper_bound]"
   ]
  },
  {
   "cell_type": "code",
   "execution_count": 89,
   "id": "aff3aa09",
   "metadata": {},
   "outputs": [
    {
     "name": "stdout",
     "output_type": "stream",
     "text": [
      "Descriptive stats of cleaned basket sizes:\n",
      "count    46176.000000\n",
      "mean        10.415302\n",
      "std         12.072415\n",
      "min          0.000000\n",
      "25%          0.000000\n",
      "50%          6.000000\n",
      "75%         17.000000\n",
      "max         50.000000\n",
      "Name: StockCode, dtype: float64\n"
     ]
    }
   ],
   "source": [
    "# Display the descriptive stats of the cleaned data to see the effect\n",
    "print(\"Descriptive stats of cleaned basket sizes:\")\n",
    "print(Basket_size_per_invoice_cleaned.describe())"
   ]
  },
  {
   "cell_type": "code",
   "execution_count": null,
   "id": "bca9a4cd",
   "metadata": {},
   "outputs": [],
   "source": [
    "# Step 3: Map the cleaned basket size back to the main DataFrame\n",
    "df_cleaned['Unique_Items_Per_Invoice'] = df_cleaned['Invoice'].map(Basket_size_per_invoice_cleaned)\n",
    "\n",
    "# Step 4: Create the 'Basket_Size' column with the median of the cleaned data (e.g., 6) as the threshold\n",
    "# You can get the new median from the descriptive stats output\n",
    "median_cleaned = Basket_size_per_invoice_cleaned.median()\n",
    "df_cleaned['Basket_Size'] = np.where(df_cleaned['Unique_Items_Per_Invoice'] > median_cleaned, 'bulk', 'small')\n"
   ]
  },
  {
   "cell_type": "code",
   "execution_count": 91,
   "id": "36ebef8c",
   "metadata": {},
   "outputs": [
    {
     "name": "stdout",
     "output_type": "stream",
     "text": [
      "\n",
      "Final Basket Size distribution:\n",
      "Basket_Size\n",
      "bulk     470314\n",
      "small    396422\n",
      "Name: count, dtype: int64\n"
     ]
    }
   ],
   "source": [
    "# Check the final value counts\n",
    "print(\"\\nFinal Basket Size distribution:\")\n",
    "print(df_cleaned['Basket_Size'].value_counts())"
   ]
  },
  {
   "cell_type": "code",
   "execution_count": 92,
   "id": "45557de1",
   "metadata": {},
   "outputs": [
    {
     "data": {
      "text/html": [
       "<div>\n",
       "<style scoped>\n",
       "    .dataframe tbody tr th:only-of-type {\n",
       "        vertical-align: middle;\n",
       "    }\n",
       "\n",
       "    .dataframe tbody tr th {\n",
       "        vertical-align: top;\n",
       "    }\n",
       "\n",
       "    .dataframe thead th {\n",
       "        text-align: right;\n",
       "    }\n",
       "</style>\n",
       "<table border=\"1\" class=\"dataframe\">\n",
       "  <thead>\n",
       "    <tr style=\"text-align: right;\">\n",
       "      <th></th>\n",
       "      <th>Invoice</th>\n",
       "      <th>StockCode</th>\n",
       "      <th>Description</th>\n",
       "      <th>Quantity</th>\n",
       "      <th>InvoiceDate</th>\n",
       "      <th>Price</th>\n",
       "      <th>Customer ID</th>\n",
       "      <th>Country</th>\n",
       "      <th>Sales</th>\n",
       "      <th>Year</th>\n",
       "      <th>Month</th>\n",
       "      <th>Weekday</th>\n",
       "      <th>Hour</th>\n",
       "      <th>Customer_Type</th>\n",
       "      <th>Customer_Region</th>\n",
       "      <th>Unique_Items_Per_Invoice</th>\n",
       "      <th>Basket_Size</th>\n",
       "    </tr>\n",
       "  </thead>\n",
       "  <tbody>\n",
       "    <tr>\n",
       "      <th>0</th>\n",
       "      <td>489434</td>\n",
       "      <td>85048</td>\n",
       "      <td>15CM CHRISTMAS GLASS BALL 20 LIGHTS</td>\n",
       "      <td>12</td>\n",
       "      <td>2009-12-01 07:45:00</td>\n",
       "      <td>6.95</td>\n",
       "      <td>13085.0</td>\n",
       "      <td>United Kingdom</td>\n",
       "      <td>83.4</td>\n",
       "      <td>2009</td>\n",
       "      <td>12</td>\n",
       "      <td>Tuesday</td>\n",
       "      <td>7</td>\n",
       "      <td>identified</td>\n",
       "      <td>Domestic</td>\n",
       "      <td>4.0</td>\n",
       "      <td>small</td>\n",
       "    </tr>\n",
       "    <tr>\n",
       "      <th>1</th>\n",
       "      <td>489434</td>\n",
       "      <td>79323P</td>\n",
       "      <td>PINK CHERRY LIGHTS</td>\n",
       "      <td>12</td>\n",
       "      <td>2009-12-01 07:45:00</td>\n",
       "      <td>6.75</td>\n",
       "      <td>13085.0</td>\n",
       "      <td>United Kingdom</td>\n",
       "      <td>81.0</td>\n",
       "      <td>2009</td>\n",
       "      <td>12</td>\n",
       "      <td>Tuesday</td>\n",
       "      <td>7</td>\n",
       "      <td>identified</td>\n",
       "      <td>Domestic</td>\n",
       "      <td>4.0</td>\n",
       "      <td>small</td>\n",
       "    </tr>\n",
       "    <tr>\n",
       "      <th>2</th>\n",
       "      <td>489434</td>\n",
       "      <td>79323W</td>\n",
       "      <td>WHITE CHERRY LIGHTS</td>\n",
       "      <td>12</td>\n",
       "      <td>2009-12-01 07:45:00</td>\n",
       "      <td>6.75</td>\n",
       "      <td>13085.0</td>\n",
       "      <td>United Kingdom</td>\n",
       "      <td>81.0</td>\n",
       "      <td>2009</td>\n",
       "      <td>12</td>\n",
       "      <td>Tuesday</td>\n",
       "      <td>7</td>\n",
       "      <td>identified</td>\n",
       "      <td>Domestic</td>\n",
       "      <td>4.0</td>\n",
       "      <td>small</td>\n",
       "    </tr>\n",
       "    <tr>\n",
       "      <th>7</th>\n",
       "      <td>489434</td>\n",
       "      <td>21523</td>\n",
       "      <td>FANCY FONT HOME SWEET HOME DOORMAT</td>\n",
       "      <td>10</td>\n",
       "      <td>2009-12-01 07:45:00</td>\n",
       "      <td>5.95</td>\n",
       "      <td>13085.0</td>\n",
       "      <td>United Kingdom</td>\n",
       "      <td>59.5</td>\n",
       "      <td>2009</td>\n",
       "      <td>12</td>\n",
       "      <td>Tuesday</td>\n",
       "      <td>7</td>\n",
       "      <td>identified</td>\n",
       "      <td>Domestic</td>\n",
       "      <td>4.0</td>\n",
       "      <td>small</td>\n",
       "    </tr>\n",
       "    <tr>\n",
       "      <th>8</th>\n",
       "      <td>489435</td>\n",
       "      <td>22350</td>\n",
       "      <td>CAT BOWL</td>\n",
       "      <td>12</td>\n",
       "      <td>2009-12-01 07:46:00</td>\n",
       "      <td>2.55</td>\n",
       "      <td>13085.0</td>\n",
       "      <td>United Kingdom</td>\n",
       "      <td>30.6</td>\n",
       "      <td>2009</td>\n",
       "      <td>12</td>\n",
       "      <td>Tuesday</td>\n",
       "      <td>7</td>\n",
       "      <td>identified</td>\n",
       "      <td>Domestic</td>\n",
       "      <td>3.0</td>\n",
       "      <td>small</td>\n",
       "    </tr>\n",
       "  </tbody>\n",
       "</table>\n",
       "</div>"
      ],
      "text/plain": [
       "  Invoice StockCode                          Description  Quantity  \\\n",
       "0  489434     85048  15CM CHRISTMAS GLASS BALL 20 LIGHTS        12   \n",
       "1  489434    79323P                   PINK CHERRY LIGHTS        12   \n",
       "2  489434    79323W                  WHITE CHERRY LIGHTS        12   \n",
       "7  489434     21523   FANCY FONT HOME SWEET HOME DOORMAT        10   \n",
       "8  489435     22350                            CAT BOWL         12   \n",
       "\n",
       "          InvoiceDate  Price Customer ID         Country  Sales  Year  Month  \\\n",
       "0 2009-12-01 07:45:00   6.95     13085.0  United Kingdom   83.4  2009     12   \n",
       "1 2009-12-01 07:45:00   6.75     13085.0  United Kingdom   81.0  2009     12   \n",
       "2 2009-12-01 07:45:00   6.75     13085.0  United Kingdom   81.0  2009     12   \n",
       "7 2009-12-01 07:45:00   5.95     13085.0  United Kingdom   59.5  2009     12   \n",
       "8 2009-12-01 07:46:00   2.55     13085.0  United Kingdom   30.6  2009     12   \n",
       "\n",
       "   Weekday  Hour Customer_Type Customer_Region  Unique_Items_Per_Invoice  \\\n",
       "0  Tuesday     7    identified        Domestic                       4.0   \n",
       "1  Tuesday     7    identified        Domestic                       4.0   \n",
       "2  Tuesday     7    identified        Domestic                       4.0   \n",
       "7  Tuesday     7    identified        Domestic                       4.0   \n",
       "8  Tuesday     7    identified        Domestic                       3.0   \n",
       "\n",
       "  Basket_Size  \n",
       "0       small  \n",
       "1       small  \n",
       "2       small  \n",
       "7       small  \n",
       "8       small  "
      ]
     },
     "execution_count": 92,
     "metadata": {},
     "output_type": "execute_result"
    }
   ],
   "source": [
    "df_cleaned.head()"
   ]
  }
 ],
 "metadata": {
  "kernelspec": {
   "display_name": "venv",
   "language": "python",
   "name": "python3"
  },
  "language_info": {
   "codemirror_mode": {
    "name": "ipython",
    "version": 3
   },
   "file_extension": ".py",
   "mimetype": "text/x-python",
   "name": "python",
   "nbconvert_exporter": "python",
   "pygments_lexer": "ipython3",
   "version": "3.11.13"
  }
 },
 "nbformat": 4,
 "nbformat_minor": 5
}
